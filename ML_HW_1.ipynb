{
  "nbformat": 4,
  "nbformat_minor": 0,
  "metadata": {
    "colab": {
      "provenance": [],
      "authorship_tag": "ABX9TyMBUe8/DjPQ3J6AvezeRpup",
      "include_colab_link": true
    },
    "kernelspec": {
      "name": "python3",
      "display_name": "Python 3"
    },
    "language_info": {
      "name": "python"
    }
  },
  "cells": [
    {
      "cell_type": "markdown",
      "metadata": {
        "id": "view-in-github",
        "colab_type": "text"
      },
      "source": [
        "<a href=\"https://colab.research.google.com/github/PraveenKumar08042001/Event-page/blob/main/ML_HW_1.ipynb\" target=\"_parent\"><img src=\"https://colab.research.google.com/assets/colab-badge.svg\" alt=\"Open In Colab\"/></a>"
      ]
    },
    {
      "cell_type": "code",
      "source": [
        "import numpy as np\n",
        "import math\n",
        "\n",
        "def main():\n",
        "    num_points = int(input(\"Enter the number of points: \"))\n",
        "    max_x_range = int(input(\"Enter the maximum X range value: \"))\n",
        "    max_y_range = int(input(\"Enter the maximum Y range value: \"))\n",
        "    min_x_range = int(input(\"Enter the minimum X range value: \"))\n",
        "    min_y_range = int(input(\"Enter the minimum Y range value: \"))\n",
        "\n",
        "    x_values = np.random.randint(min_x_range, max_x_range, num_points)\n",
        "    y_values = np.random.randint(min_y_range, max_y_range, num_points)\n",
        "\n",
        "    euclidean_distance_result = calculate_euclidean_distance(x_values, y_values)\n",
        "    cosine_similarity_result = calculate_cosine_similarity(x_values, y_values)\n",
        "    correlation_result = calculate_correlation(x_values, y_values)\n",
        "\n",
        "    print(\"Euclidean Distance: {:.2f}\".format(euclidean_distance_result))\n",
        "    print(\"Cosine Similarity: {:.2f}\".format(cosine_similarity_result))\n",
        "    print(\"Correlation: {:.2f}\".format(correlation_result))\n",
        "    print(\"X values:\", x_values)\n",
        "    print(\"Y values:\", y_values)\n",
        "\n",
        "def calculate_euclidean_distance(x, y):\n",
        "    sum_of_squares = 0\n",
        "    for i in range(len(x)):\n",
        "        sum_of_squares += (x[i] - y[i]) ** 2\n",
        "    euclidean_distance = math.sqrt(sum_of_squares)\n",
        "    return euclidean_distance\n",
        "\n",
        "def calculate_cosine_similarity(x, y):\n",
        "    dot_product = 0\n",
        "    magnitude_x = 0\n",
        "    magnitude_y = 0\n",
        "    for i in range(len(x)):\n",
        "        dot_product += x[i] * y[i]\n",
        "        magnitude_x += x[i] ** 2\n",
        "        magnitude_y += y[i] ** 2\n",
        "    magnitude_x = math.sqrt(magnitude_x)\n",
        "    magnitude_y = math.sqrt(magnitude_y)\n",
        "    cosine_similarity = dot_product / (magnitude_x * magnitude_y)\n",
        "    return cosine_similarity\n",
        "\n",
        "def calculate_correlation(x, y):\n",
        "    covariance = 0\n",
        "    std_dev_x = 0\n",
        "    std_dev_y = 0\n",
        "    n_x = len(x)\n",
        "    n_y = len(y)\n",
        "    mean_x = sum(x) / n_x\n",
        "    mean_y = sum(y) / n_y\n",
        "    for i in range(n_x):\n",
        "        std_dev_x += (mean_x - x[i]) ** 2\n",
        "        std_dev_y += (mean_y - y[i]) ** 2\n",
        "        covariance += (x[i] - mean_x) * (y[i] - mean_y)\n",
        "    std_dev_x = math.sqrt((1 / (n_x - 1)) * std_dev_x)\n",
        "    std_dev_y = math.sqrt((1 / (n_y - 1)) * std_dev_y)\n",
        "    covariance = (1 / (n_x - 1)) * covariance\n",
        "    correlation = covariance / (std_dev_x * std_dev_y)\n",
        "    return correlation\n",
        "\n",
        "if __name__ == \"__main__\":\n",
        "    main()"
      ],
      "metadata": {
        "colab": {
          "base_uri": "https://localhost:8080/"
        },
        "id": "dJlAaRcEnOQ1",
        "outputId": "f3d8103c-f0b1-4a1a-f5d8-676fc8498d50"
      },
      "execution_count": 1,
      "outputs": [
        {
          "output_type": "stream",
          "name": "stdout",
          "text": [
            "Enter the number of points: 7\n",
            "Enter the maximum X range value: 14\n",
            "Enter the maximum Y range value: 18\n",
            "Enter the minimum X range value: 5\n",
            "Enter the minimum Y range value: 6\n",
            "Euclidean Distance: 11.14\n",
            "Cosine Similarity: 0.95\n",
            "Correlation: 0.49\n",
            "X values: [10  7 10 13 11  5  5]\n",
            "Y values: [ 9 16 14 16  9  7  8]\n"
          ]
        }
      ]
    },
    {
      "cell_type": "code",
      "source": [
        "import numpy as np\n",
        "\n",
        "def main():\n",
        "    num_points = int(input(\"Enter the number of points: \"))\n",
        "    max_x_value = int(input(\"Enter the maximum X value: \"))\n",
        "    max_y_value = int(input(\"Enter the maximum Y value: \"))\n",
        "    min_x_value = int(input(\"Enter the minimum X value: \"))\n",
        "    min_y_value = int(input(\"Enter the minimum Y value: \"))\n",
        "\n",
        "    vector_a = np.random.randint(min_x_value, max_x_value, num_points)\n",
        "    vector_b = np.random.randint(min_y_value, max_y_value, num_points)\n",
        "\n",
        "    print(\"Vector A: {} Vector B: {}\".format(vector_a, vector_b))\n",
        "\n",
        "    correlation_coefficient = calculate_correlation_coefficient(vector_a, vector_b)\n",
        "    print(\"Correlation Coefficient: {:.2f}\".format(correlation_coefficient))\n",
        "\n",
        "    cosine_similarity = calculate_cosine_similarity(vector_a, vector_b)\n",
        "    print(\"Cosine Similarity: {:.2f}\".format(cosine_similarity))\n",
        "\n",
        "    euclidean_distance = calculate_euclidean_distance(vector_a, vector_b)\n",
        "    print(\"Euclidean Distance: {:.2f}\".format(euclidean_distance))\n",
        "\n",
        "def calculate_correlation_coefficient(vector_x, vector_y):\n",
        "    correlation_matrix = np.corrcoef(vector_x, vector_y)\n",
        "    return correlation_matrix[0, 1]\n",
        "\n",
        "def calculate_cosine_similarity(vector_x, vector_y):\n",
        "    dot_product = np.dot(vector_x, vector_y)\n",
        "    norm_vector_x = np.linalg.norm(vector_x)\n",
        "    norm_vector_y = np.linalg.norm(vector_y)\n",
        "    cosine_similarity = dot_product / (norm_vector_x * norm_vector_y)\n",
        "    return cosine_similarity\n",
        "\n",
        "def calculate_euclidean_distance(vector_x, vector_y):\n",
        "    euclidean_distance = np.linalg.norm(vector_x - vector_y)\n",
        "    return euclidean_distance\n",
        "\n",
        "if __name__ == \"__main__\":\n",
        "    main()\n"
      ],
      "metadata": {
        "colab": {
          "base_uri": "https://localhost:8080/"
        },
        "id": "2qy6Erz8o8ii",
        "outputId": "aa57a019-8b62-4225-cf29-09f8702d141b"
      },
      "execution_count": 2,
      "outputs": [
        {
          "output_type": "stream",
          "name": "stdout",
          "text": [
            "Enter the number of points: 8\n",
            "Enter the maximum X value: 16\n",
            "Enter the maximum Y value: 18\n",
            "Enter the minimum X value: 4\n",
            "Enter the minimum Y value: 6\n",
            "Vector A: [9 9 8 7 4 6 8 6] Vector B: [ 7 17  8 14 10 17 10 16]\n",
            "Correlation Coefficient: -0.19\n",
            "Cosine Similarity: 0.92\n",
            "Euclidean Distance: 19.44\n"
          ]
        }
      ]
    },
    {
      "cell_type": "code",
      "source": [
        "import numpy as np\n",
        "from scipy.spatial import distance\n",
        "import scipy.stats\n",
        "\n",
        "def main():\n",
        "    num_points = int(input(\"Enter the number of points: \"))\n",
        "    max_x_value = int(input(\"Enter the maximum X value: \"))\n",
        "    max_y_value = int(input(\"Enter the maximum Y value: \"))\n",
        "    min_x_value = int(input(\"Enter the minimum X value: \"))\n",
        "    min_y_value = int(input(\"Enter the minimum Y value: \"))\n",
        "\n",
        "    vector_a = np.random.randint(min_x_value, max_x_value, num_points)\n",
        "    vector_b = np.random.randint(min_y_value, max_y_value, num_points)\n",
        "\n",
        "    print(\"Vector A: {} Vector B: {}\".format(vector_a, vector_b))\n",
        "\n",
        "    correlation_coefficient = calculate_correlation_coefficient(vector_a, vector_b)\n",
        "    print(\"Correlation Coefficient: {:.2f}\".format(correlation_coefficient))\n",
        "\n",
        "    euclidean_distance = calculate_euclidean_distance(vector_a, vector_b)\n",
        "    print(\"Euclidean Distance: {:.2f}\".format(euclidean_distance))\n",
        "\n",
        "    cosine_similarity = calculate_cosine_similarity(vector_a, vector_b)\n",
        "    print(\"Cosine Similarity: {:.2f}\".format(cosine_similarity))\n",
        "\n",
        "def calculate_correlation_coefficient(vector_x, vector_y):\n",
        "    correlation_val, _ = scipy.stats.pearsonr(vector_x, vector_y)\n",
        "    return correlation_val\n",
        "\n",
        "def calculate_euclidean_distance(vector_x, vector_y):\n",
        "    euclidean_dist = distance.euclidean(vector_x, vector_y)\n",
        "    return euclidean_dist\n",
        "\n",
        "def calculate_cosine_similarity(vector_x, vector_y):\n",
        "    cosine_similarity = 1 - distance.cosine(vector_x, vector_y)\n",
        "    return cosine_similarity\n",
        "\n",
        "if __name__ == \"__main__\":\n",
        "    main()"
      ],
      "metadata": {
        "colab": {
          "base_uri": "https://localhost:8080/"
        },
        "id": "BHCNdNi7pFxo",
        "outputId": "b67d378c-bc50-4053-8062-703b4e81202e"
      },
      "execution_count": 3,
      "outputs": [
        {
          "output_type": "stream",
          "name": "stdout",
          "text": [
            "Enter the number of points: 17\n",
            "Enter the maximum X value: 34\n",
            "Enter the maximum Y value: 45\n",
            "Enter the minimum X value: 12\n",
            "Enter the minimum Y value: 14\n",
            "Vector A: [16 17 16 26 30 21 24 20 28 20 25 21 15 24 13 28 14] Vector B: [39 29 43 26 18 25 36 25 14 42 28 21 24 37 19 33 42]\n",
            "Correlation Coefficient: -0.33\n",
            "Euclidean Distance: 59.29\n",
            "Cosine Similarity: 0.91\n"
          ]
        }
      ]
    },
    {
      "cell_type": "code",
      "source": [
        "import pandas as pd\n",
        "\n",
        "def main():\n",
        "    series_a = pd.Series(range(10, 20))\n",
        "    series_b = pd.Series([2, 1, 4, 5, 8, 12, 18, 25, 96, 48])\n",
        "\n",
        "    # Calculate correlation\n",
        "    correlation_ab = calculate_correlation(series_a, series_b)\n",
        "    correlation_ba = calculate_correlation(series_b, series_a)\n",
        "\n",
        "    print(\"Correlation A to B:\", correlation_ab)\n",
        "    print(\"Correlation B to A:\", correlation_ba)\n",
        "\n",
        "def calculate_correlation(series_x, series_y):\n",
        "    correlation = series_x.corr(series_y)\n",
        "    return correlation\n",
        "\n",
        "if __name__ == \"__main__\":\n",
        "    main()\n"
      ],
      "metadata": {
        "colab": {
          "base_uri": "https://localhost:8080/"
        },
        "id": "PvhbW03gpnAN",
        "outputId": "2739823e-ac6e-418c-ab66-4eeb2a43a621"
      },
      "execution_count": 4,
      "outputs": [
        {
          "output_type": "stream",
          "name": "stdout",
          "text": [
            "Correlation A to B: 0.7586402890911867\n",
            "Correlation B to A: 0.7586402890911869\n"
          ]
        }
      ]
    }
  ]
}