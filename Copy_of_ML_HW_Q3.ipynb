{
  "nbformat": 4,
  "nbformat_minor": 0,
  "metadata": {
    "colab": {
      "provenance": [],
      "authorship_tag": "ABX9TyNTkPMDIYAkgTgXVu3+UJ+H",
      "include_colab_link": true
    },
    "kernelspec": {
      "name": "python3",
      "display_name": "Python 3"
    },
    "language_info": {
      "name": "python"
    }
  },
  "cells": [
    {
      "cell_type": "markdown",
      "metadata": {
        "id": "view-in-github",
        "colab_type": "text"
      },
      "source": [
        "<a href=\"https://colab.research.google.com/github/PraveenKumar08042001/Event-page/blob/main/Copy_of_ML_HW_Q3.ipynb\" target=\"_parent\"><img src=\"https://colab.research.google.com/assets/colab-badge.svg\" alt=\"Open In Colab\"/></a>"
      ]
    },
    {
      "cell_type": "code",
      "execution_count": null,
      "metadata": {
        "colab": {
          "base_uri": "https://localhost:8080/"
        },
        "id": "6E5LN4YFDVYU",
        "outputId": "b6e99338-6220-4986-b930-89d828ae76bd"
      },
      "outputs": [
        {
          "output_type": "stream",
          "name": "stdout",
          "text": [
            "Enter the number of points: 17\n",
            "Enter the maximum X value: 34\n",
            "Enter the maximum Y value: 45\n",
            "Enter the minimum X value: 12\n",
            "Enter the minimum Y value: 14\n",
            "Vector A: [12 30 30 19 26 30 31 19 23 16 15 29 17 30 31 21 26] Vector B: [17 33 30 26 19 35 43 40 36 36 26 15 22 18 17 32 34]\n",
            "Correlation Coefficient: 0.04\n",
            "Euclidean Distance: 46.67\n",
            "Cosine Similarity: 0.93\n"
          ]
        }
      ],
      "source": [
        "import numpy as np\n",
        "from scipy.spatial import distance\n",
        "import scipy.stats\n",
        "\n",
        "def main():\n",
        "    num_points = int(input(\"Enter the number of points: \"))\n",
        "    max_x_value = int(input(\"Enter the maximum X value: \"))\n",
        "    max_y_value = int(input(\"Enter the maximum Y value: \"))\n",
        "    min_x_value = int(input(\"Enter the minimum X value: \"))\n",
        "    min_y_value = int(input(\"Enter the minimum Y value: \"))\n",
        "\n",
        "    vector_a = np.random.randint(min_x_value, max_x_value, num_points)\n",
        "    vector_b = np.random.randint(min_y_value, max_y_value, num_points)\n",
        "\n",
        "    print(\"Vector A: {} Vector B: {}\".format(vector_a, vector_b))\n",
        "\n",
        "    correlation_coefficient = calculate_correlation_coefficient(vector_a, vector_b)\n",
        "    print(\"Correlation Coefficient: {:.2f}\".format(correlation_coefficient))\n",
        "\n",
        "    euclidean_distance = calculate_euclidean_distance(vector_a, vector_b)\n",
        "    print(\"Euclidean Distance: {:.2f}\".format(euclidean_distance))\n",
        "\n",
        "    cosine_similarity = calculate_cosine_similarity(vector_a, vector_b)\n",
        "    print(\"Cosine Similarity: {:.2f}\".format(cosine_similarity))\n",
        "\n",
        "def calculate_correlation_coefficient(vector_x, vector_y):\n",
        "    correlation_val, _ = scipy.stats.pearsonr(vector_x, vector_y)\n",
        "    return correlation_val\n",
        "\n",
        "def calculate_euclidean_distance(vector_x, vector_y):\n",
        "    euclidean_dist = distance.euclidean(vector_x, vector_y)\n",
        "    return euclidean_dist\n",
        "\n",
        "def calculate_cosine_similarity(vector_x, vector_y):\n",
        "    cosine_similarity = 1 - distance.cosine(vector_x, vector_y)\n",
        "    return cosine_similarity\n",
        "\n",
        "if __name__ == \"__main__\":\n",
        "    main()"
      ]
    },
    {
      "cell_type": "code",
      "source": [
        "import pandas as pd\n",
        "\n",
        "def main():\n",
        "    series_a = pd.Series(range(10, 20))\n",
        "    series_b = pd.Series([2, 1, 4, 5, 8, 12, 18, 25, 96, 48])\n",
        "\n",
        "    # Calculate correlation\n",
        "    correlation_ab = calculate_correlation(series_a, series_b)\n",
        "    correlation_ba = calculate_correlation(series_b, series_a)\n",
        "\n",
        "    print(\"Correlation A to B:\", correlation_ab)\n",
        "    print(\"Correlation B to A:\", correlation_ba)\n",
        "\n",
        "def calculate_correlation(series_x, series_y):\n",
        "    correlation = series_x.corr(series_y)\n",
        "    return correlation\n",
        "\n",
        "if __name__ == \"__main__\":\n",
        "    main()"
      ],
      "metadata": {
        "colab": {
          "base_uri": "https://localhost:8080/"
        },
        "id": "Stm9Cee9DrY7",
        "outputId": "7a0a5bf1-dc6c-482d-dbb8-7558ae9fc9dd"
      },
      "execution_count": null,
      "outputs": [
        {
          "output_type": "stream",
          "name": "stdout",
          "text": [
            "Correlation A to B: 0.7586402890911867\n",
            "Correlation B to A: 0.7586402890911869\n"
          ]
        }
      ]
    }
  ]
}